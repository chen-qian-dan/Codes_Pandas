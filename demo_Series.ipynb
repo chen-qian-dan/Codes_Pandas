{
 "cells": [
  {
   "cell_type": "markdown",
   "metadata": {},
   "source": [
    "# Pandas Tutorial"
   ]
  },
  {
   "cell_type": "code",
   "execution_count": 1,
   "metadata": {},
   "outputs": [],
   "source": [
    "import pandas as pd"
   ]
  },
  {
   "cell_type": "code",
   "execution_count": 2,
   "metadata": {},
   "outputs": [
    {
     "name": "stdout",
     "output_type": "stream",
     "text": [
      "0.25.1\n"
     ]
    }
   ],
   "source": [
    "#check pandas version\n",
    "print(pd.__version__)"
   ]
  },
  {
   "cell_type": "markdown",
   "metadata": {},
   "source": [
    "# Series create, manipulate, querry, delete"
   ]
  },
  {
   "cell_type": "code",
   "execution_count": 3,
   "metadata": {},
   "outputs": [
    {
     "data": {
      "text/plain": [
       "0      0\n",
       "1      1\n",
       "2      2\n",
       "3      3\n",
       "4    str\n",
       "dtype: object"
      ]
     },
     "execution_count": 3,
     "metadata": {},
     "output_type": "execute_result"
    }
   ],
   "source": [
    "# creating a series from a list\n",
    "arr = [0, 1, 2, 3, 'str']\n",
    "s1 = pd.Series(arr)\n",
    "s1"
   ]
  },
  {
   "cell_type": "code",
   "execution_count": 4,
   "metadata": {},
   "outputs": [
    {
     "data": {
      "text/plain": [
       "1      0\n",
       "2      1\n",
       "3      2\n",
       "4      3\n",
       "6    str\n",
       "dtype: object"
      ]
     },
     "execution_count": 4,
     "metadata": {},
     "output_type": "execute_result"
    }
   ],
   "source": [
    "order = [1, 2, 3, 4, 6]\n",
    "s2 = pd.Series(arr, index = order)\n",
    "s2"
   ]
  },
  {
   "cell_type": "code",
   "execution_count": 5,
   "metadata": {},
   "outputs": [
    {
     "data": {
      "text/plain": [
       "array([ 2.25998632, -0.02033066, -1.59231407, -0.58165741, -0.64584723])"
      ]
     },
     "execution_count": 5,
     "metadata": {},
     "output_type": "execute_result"
    }
   ],
   "source": [
    "import numpy as np\n",
    "n = np.random.randn(5) # create a random Ndarray\n",
    "n"
   ]
  },
  {
   "cell_type": "code",
   "execution_count": 6,
   "metadata": {},
   "outputs": [
    {
     "data": {
      "text/plain": [
       "a   -0.619944\n",
       "b    1.530868\n",
       "c    1.037746\n",
       "d   -0.337255\n",
       "e    1.673450\n",
       "dtype: float64"
      ]
     },
     "execution_count": 6,
     "metadata": {},
     "output_type": "execute_result"
    }
   ],
   "source": [
    "import numpy as np\n",
    "n = np.random.randn(5) # create a random Ndarray\n",
    "index = ['a', 'b', 'c', 'd', 'e']\n",
    "s2 = pd.Series(n, index = index)\n",
    "s2"
   ]
  },
  {
   "cell_type": "code",
   "execution_count": 7,
   "metadata": {},
   "outputs": [
    {
     "data": {
      "text/plain": [
       "a    1\n",
       "b    2\n",
       "c    3\n",
       "d    4\n",
       "e    5\n",
       "dtype: int64"
      ]
     },
     "execution_count": 7,
     "metadata": {},
     "output_type": "execute_result"
    }
   ],
   "source": [
    "# create Series from dictionary\n",
    "d = {'a':1, 'b':2, 'c':3, 'd':4, 'e':5} # 'key':value\n",
    "s3 = pd.Series(d)\n",
    "s3"
   ]
  },
  {
   "cell_type": "code",
   "execution_count": 8,
   "metadata": {},
   "outputs": [
    {
     "name": "stdout",
     "output_type": "stream",
     "text": [
      "0      0\n",
      "1      1\n",
      "2      2\n",
      "3      3\n",
      "4    str\n",
      "dtype: object\n"
     ]
    },
    {
     "data": {
      "text/plain": [
       "A      0\n",
       "B      1\n",
       "C      2\n",
       "D      3\n",
       "E    str\n",
       "dtype: object"
      ]
     },
     "execution_count": 8,
     "metadata": {},
     "output_type": "execute_result"
    }
   ],
   "source": [
    "# you can modify the index of series\n",
    "print(s1)\n",
    "s1.index = ['A', 'B', 'C', 'D', 'E']\n",
    "s1"
   ]
  },
  {
   "cell_type": "code",
   "execution_count": 9,
   "metadata": {},
   "outputs": [
    {
     "name": "stdout",
     "output_type": "stream",
     "text": [
      "A      0\n",
      "B      1\n",
      "C      2\n",
      "D      3\n",
      "E    str\n",
      "dtype: object\n",
      "a   -0.619944\n",
      "b    1.530868\n",
      "c    1.037746\n",
      "d   -0.337255\n",
      "e    1.673450\n",
      "dtype: float64\n"
     ]
    }
   ],
   "source": [
    "# slicing\n",
    "a = s1[:3]  # the first item I don't want is on indexId = 3;\n",
    "print(s1)\n",
    "a\n",
    "print(s2)"
   ]
  },
  {
   "cell_type": "code",
   "execution_count": 10,
   "metadata": {},
   "outputs": [
    {
     "name": "stdout",
     "output_type": "stream",
     "text": [
      "A      0\n",
      "B      1\n",
      "C      2\n",
      "D      3\n",
      "E    str\n",
      "dtype: object\n",
      "--------------------\n",
      "a    1\n",
      "b    2\n",
      "c    3\n",
      "d    4\n",
      "e    5\n",
      "dtype: int64\n",
      "--------------------\n",
      "A      0\n",
      "B      1\n",
      "C      2\n",
      "D      3\n",
      "E    str\n",
      "a      1\n",
      "b      2\n",
      "c      3\n",
      "d      4\n",
      "e      5\n",
      "dtype: object\n"
     ]
    }
   ],
   "source": [
    "print(s1)\n",
    "print('--------------------')\n",
    "print(s3)\n",
    "print('--------------------')\n",
    "s4 = s1.append(s3)\n",
    "print(s4)"
   ]
  },
  {
   "cell_type": "code",
   "execution_count": 11,
   "metadata": {},
   "outputs": [
    {
     "name": "stdout",
     "output_type": "stream",
     "text": [
      "A      0\n",
      "B      1\n",
      "C      2\n",
      "D      3\n",
      "E    str\n",
      "dtype: object\n",
      "--------------------\n",
      "a    1\n",
      "b    2\n",
      "c    3\n",
      "d    4\n",
      "e    5\n",
      "dtype: int64\n",
      "--------------------\n",
      "A    NaN\n",
      "B    NaN\n",
      "C    NaN\n",
      "D    NaN\n",
      "E    NaN\n",
      "a    NaN\n",
      "b    NaN\n",
      "c    NaN\n",
      "d    NaN\n",
      "e    NaN\n",
      "dtype: object\n"
     ]
    }
   ],
   "source": [
    "print(s1)\n",
    "print('--------------------')\n",
    "print(s3)\n",
    "print('--------------------')\n",
    "s4 = s1 + s3\n",
    "print(s4)"
   ]
  },
  {
   "cell_type": "code",
   "execution_count": 12,
   "metadata": {},
   "outputs": [
    {
     "name": "stdout",
     "output_type": "stream",
     "text": [
      "A      0\n",
      "B      1\n",
      "C      2\n",
      "D      3\n",
      "E    str\n",
      "dtype: object\n",
      "--------------------\n",
      "a    1\n",
      "b    2\n",
      "c    3\n",
      "d    4\n",
      "e    5\n",
      "dtype: int64\n",
      "--------------------\n",
      "A    NaN\n",
      "B    NaN\n",
      "C    NaN\n",
      "D    NaN\n",
      "E    NaN\n",
      "a    NaN\n",
      "b    NaN\n",
      "c    NaN\n",
      "d    NaN\n",
      "e    NaN\n",
      "dtype: object\n"
     ]
    }
   ],
   "source": [
    "print(s1)\n",
    "print('--------------------')\n",
    "print(s3)\n",
    "print('--------------------')\n",
    "print(s1 + s3)"
   ]
  },
  {
   "cell_type": "code",
   "execution_count": 13,
   "metadata": {},
   "outputs": [
    {
     "name": "stdout",
     "output_type": "stream",
     "text": [
      "['a', 'b', 'c', 'd']\n"
     ]
    }
   ],
   "source": [
    "arr1 = ['a', 'b']\n",
    "arr2 = ['c', 'd']\n",
    "print(arr1 + arr2)"
   ]
  },
  {
   "cell_type": "code",
   "execution_count": 17,
   "metadata": {},
   "outputs": [
    {
     "name": "stdout",
     "output_type": "stream",
     "text": [
      "A      0\n",
      "B      1\n",
      "C      2\n",
      "D      3\n",
      "E    str\n",
      "dtype: object\n",
      "--------------------\n",
      "A         0\n",
      "B         2\n",
      "C         4\n",
      "D         6\n",
      "E    strstr\n",
      "dtype: object\n"
     ]
    }
   ],
   "source": [
    "print(s1)\n",
    "print('--------------------')\n",
    "print(s1*2)"
   ]
  },
  {
   "cell_type": "code",
   "execution_count": 33,
   "metadata": {},
   "outputs": [
    {
     "name": "stdout",
     "output_type": "stream",
     "text": [
      "A      0\n",
      "B      1\n",
      "C      2\n",
      "D      3\n",
      "E    str\n",
      "dtype: object\n",
      "--------------------\n",
      "A      0\n",
      "B      1\n",
      "C      2\n",
      "D      3\n",
      "E    str\n",
      "dtype: object\n",
      "--------------------\n",
      "A      0\n",
      "C      2\n",
      "D      3\n",
      "E    str\n",
      "dtype: object\n"
     ]
    }
   ],
   "source": [
    "print(s1)\n",
    "print('--------------------')\n",
    "s5 = s1.drop('B') # Note: s1.drop(indexId), \n",
    "                  #will not affect s1 \n",
    "print(s1)\n",
    "print('--------------------')\n",
    "print(s5)"
   ]
  },
  {
   "cell_type": "markdown",
   "metadata": {},
   "source": [
    "# Series Operations"
   ]
  },
  {
   "cell_type": "code",
   "execution_count": 57,
   "metadata": {},
   "outputs": [],
   "source": [
    "arr1 = [0, 2, 3]\n",
    "arr2 = [6, 7]"
   ]
  },
  {
   "cell_type": "code",
   "execution_count": 58,
   "metadata": {},
   "outputs": [],
   "source": [
    "s5 = pd.Series(arr2)\n",
    "s6 = pd.Series(arr1)"
   ]
  },
  {
   "cell_type": "code",
   "execution_count": 61,
   "metadata": {},
   "outputs": [
    {
     "name": "stdout",
     "output_type": "stream",
     "text": [
      "0    6\n",
      "1    7\n",
      "dtype: int64\n",
      "--------------------\n",
      "0    0\n",
      "1    2\n",
      "2    3\n",
      "dtype: int64\n",
      "--------------------\n",
      "0    inf\n",
      "1    3.5\n",
      "2    NaN\n",
      "dtype: float64\n",
      "--------------------\n",
      "0    inf\n",
      "1    3.5\n",
      "2    NaN\n",
      "dtype: float64\n",
      "--------------------\n",
      "0    6\n",
      "1    7\n",
      "dtype: int64\n"
     ]
    }
   ],
   "source": [
    "print(s5)\n",
    "print('--------------------')\n",
    "print(s6)\n",
    "print('--------------------')\n",
    "s8 = s5.div(s6)\n",
    "print(s8)\n",
    "print('--------------------')\n",
    "s9 = s5 / s6\n",
    "print(s9)\n",
    "print('--------------------')\n",
    "print(s5)"
   ]
  },
  {
   "cell_type": "code",
   "execution_count": 69,
   "metadata": {},
   "outputs": [
    {
     "name": "stdout",
     "output_type": "stream",
     "text": [
      "0    0\n",
      "1    2\n",
      "2    3\n",
      "dtype: int64\n",
      "--------------------\n",
      "2.0\n",
      "--------------------\n",
      "0    1\n",
      "1    2\n",
      "2    3\n",
      "3    4\n",
      "dtype: int64\n",
      "--------------------\n",
      "2.5\n",
      "--------------------\n"
     ]
    }
   ],
   "source": [
    "print(s6)\n",
    "print('--------------------')\n",
    "print(s6.median())\n",
    "print('--------------------')\n",
    "s7 = pd.Series([1, 2, 3, 4])\n",
    "print(s7)\n",
    "print('--------------------')\n",
    "print(s7.median())\n",
    "print('--------------------')"
   ]
  },
  {
   "cell_type": "code",
   "execution_count": 72,
   "metadata": {},
   "outputs": [
    {
     "name": "stdout",
     "output_type": "stream",
     "text": [
      "0    1\n",
      "1    2\n",
      "2    3\n",
      "3    4\n",
      "dtype: int64\n",
      "--------------------\n",
      "max =  4\n",
      "min =  1\n"
     ]
    }
   ],
   "source": [
    "print(s7)\n",
    "print('--------------------')\n",
    "print('max = ', s7.max())\n",
    "print('min = ', s7.min())"
   ]
  },
  {
   "cell_type": "code",
   "execution_count": 73,
   "metadata": {},
   "outputs": [
    {
     "name": "stdout",
     "output_type": "stream",
     "text": [
      "0    inf\n",
      "1    3.5\n",
      "2    NaN\n",
      "dtype: float64\n",
      "--------------------\n",
      "max =  inf\n",
      "min =  3.5\n"
     ]
    }
   ],
   "source": [
    "print(s9)\n",
    "print('--------------------')\n",
    "print('max = ', s9.max())\n",
    "print('min = ', s9.min())"
   ]
  },
  {
   "cell_type": "code",
   "execution_count": null,
   "metadata": {},
   "outputs": [],
   "source": []
  },
  {
   "cell_type": "code",
   "execution_count": null,
   "metadata": {},
   "outputs": [],
   "source": []
  },
  {
   "cell_type": "code",
   "execution_count": null,
   "metadata": {},
   "outputs": [],
   "source": []
  },
  {
   "cell_type": "code",
   "execution_count": null,
   "metadata": {},
   "outputs": [],
   "source": []
  },
  {
   "cell_type": "code",
   "execution_count": null,
   "metadata": {},
   "outputs": [],
   "source": []
  },
  {
   "cell_type": "code",
   "execution_count": null,
   "metadata": {},
   "outputs": [],
   "source": []
  },
  {
   "cell_type": "code",
   "execution_count": null,
   "metadata": {},
   "outputs": [],
   "source": []
  },
  {
   "cell_type": "code",
   "execution_count": null,
   "metadata": {},
   "outputs": [],
   "source": []
  },
  {
   "cell_type": "code",
   "execution_count": null,
   "metadata": {},
   "outputs": [],
   "source": []
  },
  {
   "cell_type": "code",
   "execution_count": null,
   "metadata": {},
   "outputs": [],
   "source": []
  }
 ],
 "metadata": {
  "kernelspec": {
   "display_name": "Python 3",
   "language": "python",
   "name": "python3"
  },
  "language_info": {
   "codemirror_mode": {
    "name": "ipython",
    "version": 3
   },
   "file_extension": ".py",
   "mimetype": "text/x-python",
   "name": "python",
   "nbconvert_exporter": "python",
   "pygments_lexer": "ipython3",
   "version": "3.7.4"
  }
 },
 "nbformat": 4,
 "nbformat_minor": 2
}
